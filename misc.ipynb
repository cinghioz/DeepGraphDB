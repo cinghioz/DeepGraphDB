{
 "cells": [
  {
   "cell_type": "code",
   "execution_count": null,
   "id": "2a4c970e",
   "metadata": {},
   "outputs": [],
   "source": [
    "import pandas as pd\n",
    "import numpy as np\n",
    "from tqdm.notebook import tqdm\n",
    "import torch\n",
    "import torch.nn as nn\n",
    "import torch.nn.functional as F\n",
    "\n",
    "# These classes are assumed to be defined in your environment\n",
    "from ChromaVDB.chroma import ChromaFramework\n",
    "from DeepGraphDB import DeepGraphDB\n",
    "\n",
    "gdb = DeepGraphDB()\n",
    "gdb.load_graph(\"/home/cc/PHD/dglframework/DeepKG/DeepGraphDB/graphs/primekg.bin\")\n",
    "vdb = ChromaFramework(persist_directory=\"./ChromaVDB/chroma_db\")\n",
    "\n",
    "records = vdb.list_records()\n",
    "\n",
    "names = [record['name'] for record in records]\n",
    "entities = [record['entity'] for record in records]\n",
    "embs = [record['embeddings'] for record in records]\n",
    "ids = [record['id'] for record in records]\n",
    "\n",
    "# Load and filter patient data\n",
    "# data = pd.read_csv(\"/home/cc/PHD/dglframework/cptac/patient_gene_matrix_BRCA.csv\", low_memory=False)\n",
    "# # data = data[(data['site_of_resection_or_biopsy'] == 'Breast, NOS') & (data['primary_diagnosis'].isin(['Infiltrating duct carcinoma, NOS','Lobular carcinoma, NOS']))]\n",
    "# data = data[(data['site_of_resection_or_biopsy'] == 'Breast, NOS') & (data['primary_diagnosis'] == 'Infiltrating duct carcinoma, NOS' )]\n",
    "\n",
    "data = pd.read_excel('data/2025_03_29.xlsx') # (Diffuse Large B-cell Lymphoma)"
   ]
  },
  {
   "cell_type": "code",
   "execution_count": null,
   "id": "c990a245",
   "metadata": {},
   "outputs": [],
   "source": [
    "etypes = [ tup for tup in gdb.graph.canonical_etypes if tup[0] == 'geneprotein' or tup[1] == 'geneprotein' ]\n",
    "\n",
    "src_type, _, dst_type = etypes[0]\n",
    "src, dst = gdb.graph.edges(etype=etypes[0])"
   ]
  },
  {
   "cell_type": "code",
   "execution_count": null,
   "id": "1c300ddc",
   "metadata": {},
   "outputs": [],
   "source": [
    "src.max()"
   ]
  },
  {
   "cell_type": "code",
   "execution_count": null,
   "id": "80990ad0",
   "metadata": {},
   "outputs": [],
   "source": [
    "# dfstring = '_mutated'\n",
    "dfstring = '_plasma_MUT'\n",
    "\n",
    "mutation_counts = data.filter(like=dfstring).sum()\n",
    "\n",
    "mutation_counts = mutation_counts.sort_values(ascending=False)\n",
    "# 2. Filter for genes with at least 1 mutation\n",
    "genes_with_mutations = mutation_counts[mutation_counts >= 1]\n",
    "\n",
    "# 3. Calculate the mean of this filtered group\n",
    "mean_mutation_count = genes_with_mutations.mean()\n",
    "\n",
    "print(\"--- Genes With at Least 1 Mutation ---\")\n",
    "print(len(genes_with_mutations))\n",
    "\n",
    "print(f\"\\n--- Mean Number of Mutations ---\")\n",
    "print(mean_mutation_count)"
   ]
  },
  {
   "cell_type": "code",
   "execution_count": null,
   "id": "b1c6e0c5",
   "metadata": {},
   "outputs": [],
   "source": [
    "genes_with_mutations"
   ]
  },
  {
   "cell_type": "code",
   "execution_count": null,
   "id": "138081fc",
   "metadata": {},
   "outputs": [],
   "source": [
    "# diseases = {name: index for index, name in enumerate(names) if \"breast carcinoma\" in name.lower() and \"duct\" in name.lower()}\n",
    "diseases = {name: index for index, name in enumerate(names) if \"diffuse large b-cell lymphoma\" in name.lower()}"
   ]
  },
  {
   "cell_type": "code",
   "execution_count": null,
   "id": "9b486e7f",
   "metadata": {},
   "outputs": [],
   "source": [
    "# Define how many top results you want to see for each disease\n",
    "TOP_K = 10\n",
    "\n",
    "# 1. Filter for all 'geneproteint' embeddings and their names\n",
    "print(\"Filtering for gene/protein embeddings...\")\n",
    "gene_protein_data = [\n",
    "    (name, emb) for name, entity, emb in zip(names, entities, embs) if entity == 'geneprotein'\n",
    "]\n",
    "# Unzip into separate lists\n",
    "gene_protein_names, gene_protein_embs_list = zip(*gene_protein_data)\n",
    "\n",
    "# Convert the list of embeddings into a single, efficient 2D tensor\n",
    "gene_protein_embs_tensor = torch.tensor(gene_protein_embs_list, dtype=torch.float32)\n",
    "print(f\"Found {len(gene_protein_names)} gene/protein entities.\")\n",
    "\n",
    "\n",
    "# 2. Iterate through your target diseases and find similar embeddings\n",
    "print(\"\\n--- Finding Most Similar Gene/Proteins ---\")\n",
    "for disease_name, disease_index in diseases.items():\n",
    "    print(f\"\\nDisease: {disease_name}\")\n",
    "\n",
    "    # Get the embedding for the current disease and convert it to a tensor\n",
    "    disease_emb = torch.tensor(embs[disease_index], dtype=torch.float32)\n",
    "\n",
    "    # Calculate cosine similarity between the disease and ALL gene/protein embeddings\n",
    "    # We use unsqueeze(0) to make the disease_emb 2D for broadcasting [1, D] vs [N, D]\n",
    "    similarities = F.cosine_similarity(disease_emb.unsqueeze(0), gene_protein_embs_tensor)\n",
    "\n",
    "    # Get the top K results (both values and their indices)\n",
    "    top_results = torch.topk(similarities, k=TOP_K)\n",
    "    \n",
    "    # 3. Display the results\n",
    "    for i in range(TOP_K):\n",
    "        score = top_results.values[i].item()\n",
    "        gene_index = top_results.indices[i].item()\n",
    "        gene_name = gene_protein_names[gene_index]\n",
    "        print(f\"  {i+1}. {gene_name} (Similarity: {score:.4f}) - mutation count: {genes_with_mutations.get(gene_name+dfstring, 0)}\")"
   ]
  }
 ],
 "metadata": {
  "kernelspec": {
   "display_name": ".venv",
   "language": "python",
   "name": "python3"
  },
  "language_info": {
   "codemirror_mode": {
    "name": "ipython",
    "version": 3
   },
   "file_extension": ".py",
   "mimetype": "text/x-python",
   "name": "python",
   "nbconvert_exporter": "python",
   "pygments_lexer": "ipython3",
   "version": "3.12.3"
  }
 },
 "nbformat": 4,
 "nbformat_minor": 5
}
