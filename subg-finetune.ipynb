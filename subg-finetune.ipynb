{
 "cells": [
  {
   "cell_type": "code",
   "execution_count": null,
   "id": "86e07da2",
   "metadata": {},
   "outputs": [],
   "source": [
    "import pandas as pd\n",
    "import numpy as np\n",
    "from ChromaVDB.chroma import ChromaFramework\n",
    "from DeepGraphDB import DeepGraphDB\n",
    "from tqdm.notebook import tqdm\n",
    "\n",
    "gdb = DeepGraphDB()\n",
    "gdb.load_graph(\"/home/cc/PHD/dglframework/DeepKG/DeepGraphDB/graphs/primekg.bin\")\n",
    "\n",
    "vdb = ChromaFramework(persist_directory=\"./ChromaVDB/chroma_db\")\n",
    "records = vdb.list_records()\n",
    "\n",
    "names = [record['name'] for record in records]\n",
    "embs = [record['embeddings'] for record in records]\n",
    "ids = [record['id'] for record in records]\n",
    "\n",
    "data = pd.read_excel('data/2025_03_29.xlsx') # Provare ad usare anche stadio-avanzato, IPI e Log10hGE\n",
    "# type: DLBCL (Diffuse Large B-cell Lymphoma)"
   ]
  },
  {
   "cell_type": "code",
   "execution_count": null,
   "id": "4e48aa73",
   "metadata": {},
   "outputs": [],
   "source": [
    "gdb.query_nodes_by_nodedata(entity_type=\"disease\", feature_name=\"name\", condition=\"in\", value=\"B-cell lymphoma\")\n",
    "nodes = gdb.get_k_hop_neighbors([35884], 2)\n",
    "print(len(nodes[1])+len(nodes[2])+1)\n",
    "\n",
    "node_names = set([gdb.node_data[gdb.global_to_local_mapping[idd][0]]['name'][gdb.global_to_local_mapping[idd][1]] for idd in nodes[1]] + \\\n",
    "                [gdb.node_data[gdb.global_to_local_mapping[idd][0]]['name'][gdb.global_to_local_mapping[idd][1]] for idd in nodes[2]])"
   ]
  }
 ],
 "metadata": {
  "kernelspec": {
   "display_name": ".venv",
   "language": "python",
   "name": "python3"
  },
  "language_info": {
   "name": "python",
   "version": "3.12.3"
  }
 },
 "nbformat": 4,
 "nbformat_minor": 5
}
